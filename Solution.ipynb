{
 "cells": [
  {
   "cell_type": "code",
   "execution_count": 1,
   "metadata": {},
   "outputs": [],
   "source": [
    "import pandas as pd\n",
    "import numpy as np\n",
    "import matplotlib.pyplot as plt\n",
    "import seaborn as sns\n",
    "% matplotlib inline"
   ]
  },
  {
   "cell_type": "code",
   "execution_count": 2,
   "metadata": {},
   "outputs": [],
   "source": [
    "train = pd.read_csv(\"train data.csv\")\n",
    "test = pd.read_csv(\"test data.csv\")"
   ]
  },
  {
   "cell_type": "code",
   "execution_count": 3,
   "metadata": {},
   "outputs": [
    {
     "name": "stdout",
     "output_type": "stream",
     "text": [
      "train shape : (199410, 8) test shape : (49414, 6)\n"
     ]
    }
   ],
   "source": [
    "print(\"train shape : {} test shape : {}\".format(train.shape, test.shape))"
   ]
  },
  {
   "cell_type": "code",
   "execution_count": 4,
   "metadata": {},
   "outputs": [
    {
     "data": {
      "text/html": [
       "<div>\n",
       "<style scoped>\n",
       "    .dataframe tbody tr th:only-of-type {\n",
       "        vertical-align: middle;\n",
       "    }\n",
       "\n",
       "    .dataframe tbody tr th {\n",
       "        vertical-align: top;\n",
       "    }\n",
       "\n",
       "    .dataframe thead th {\n",
       "        text-align: right;\n",
       "    }\n",
       "</style>\n",
       "<table border=\"1\" class=\"dataframe\">\n",
       "  <thead>\n",
       "    <tr style=\"text-align: right;\">\n",
       "      <th></th>\n",
       "      <th>id</th>\n",
       "      <th>ad</th>\n",
       "      <th>link</th>\n",
       "      <th>timestamp</th>\n",
       "      <th>checkout</th>\n",
       "      <th>order_placed</th>\n",
       "      <th>grp</th>\n",
       "      <th>funnel_level</th>\n",
       "    </tr>\n",
       "  </thead>\n",
       "  <tbody>\n",
       "    <tr>\n",
       "      <th>0</th>\n",
       "      <td>session446676598812</td>\n",
       "      <td>ad412316860435</td>\n",
       "      <td>link1288490188810</td>\n",
       "      <td>2018-04-30T14:39:22.000-04:00</td>\n",
       "      <td>1</td>\n",
       "      <td>1</td>\n",
       "      <td>grp936302870529</td>\n",
       "      <td>lower</td>\n",
       "    </tr>\n",
       "    <tr>\n",
       "      <th>1</th>\n",
       "      <td>session60129542152</td>\n",
       "      <td>ad584115552306</td>\n",
       "      <td>link1288490188810</td>\n",
       "      <td>2018-04-30T08:39:23.000-04:00</td>\n",
       "      <td>1</td>\n",
       "      <td>1</td>\n",
       "      <td>grp936302870529</td>\n",
       "      <td>lower</td>\n",
       "    </tr>\n",
       "    <tr>\n",
       "      <th>2</th>\n",
       "      <td>session1511828488251</td>\n",
       "      <td>ad1056561954841</td>\n",
       "      <td>link1288490188810</td>\n",
       "      <td>2018-04-30T17:24:01.000-04:00</td>\n",
       "      <td>1</td>\n",
       "      <td>1</td>\n",
       "      <td>grp936302870529</td>\n",
       "      <td>lower</td>\n",
       "    </tr>\n",
       "  </tbody>\n",
       "</table>\n",
       "</div>"
      ],
      "text/plain": [
       "                     id               ad               link  \\\n",
       "0   session446676598812   ad412316860435  link1288490188810   \n",
       "1    session60129542152   ad584115552306  link1288490188810   \n",
       "2  session1511828488251  ad1056561954841  link1288490188810   \n",
       "\n",
       "                       timestamp  checkout  order_placed              grp  \\\n",
       "0  2018-04-30T14:39:22.000-04:00         1             1  grp936302870529   \n",
       "1  2018-04-30T08:39:23.000-04:00         1             1  grp936302870529   \n",
       "2  2018-04-30T17:24:01.000-04:00         1             1  grp936302870529   \n",
       "\n",
       "  funnel_level  \n",
       "0        lower  \n",
       "1        lower  \n",
       "2        lower  "
      ]
     },
     "execution_count": 4,
     "metadata": {},
     "output_type": "execute_result"
    }
   ],
   "source": [
    "train.head(3)"
   ]
  },
  {
   "cell_type": "code",
   "execution_count": 5,
   "metadata": {},
   "outputs": [
    {
     "data": {
      "text/plain": [
       "id                  0\n",
       "ad              79375\n",
       "link                0\n",
       "timestamp           0\n",
       "checkout            0\n",
       "order_placed        0\n",
       "grp                 0\n",
       "funnel_level        0\n",
       "dtype: int64"
      ]
     },
     "execution_count": 5,
     "metadata": {},
     "output_type": "execute_result"
    }
   ],
   "source": [
    "train.isnull().sum()"
   ]
  },
  {
   "cell_type": "code",
   "execution_count": 6,
   "metadata": {},
   "outputs": [
    {
     "data": {
      "text/html": [
       "<div>\n",
       "<style scoped>\n",
       "    .dataframe tbody tr th:only-of-type {\n",
       "        vertical-align: middle;\n",
       "    }\n",
       "\n",
       "    .dataframe tbody tr th {\n",
       "        vertical-align: top;\n",
       "    }\n",
       "\n",
       "    .dataframe thead th {\n",
       "        text-align: right;\n",
       "    }\n",
       "</style>\n",
       "<table border=\"1\" class=\"dataframe\">\n",
       "  <thead>\n",
       "    <tr style=\"text-align: right;\">\n",
       "      <th></th>\n",
       "      <th>checkout</th>\n",
       "      <th>order_placed</th>\n",
       "    </tr>\n",
       "  </thead>\n",
       "  <tbody>\n",
       "    <tr>\n",
       "      <th>count</th>\n",
       "      <td>199410.000000</td>\n",
       "      <td>199410.000000</td>\n",
       "    </tr>\n",
       "    <tr>\n",
       "      <th>mean</th>\n",
       "      <td>0.416529</td>\n",
       "      <td>0.198155</td>\n",
       "    </tr>\n",
       "    <tr>\n",
       "      <th>std</th>\n",
       "      <td>0.492985</td>\n",
       "      <td>0.398610</td>\n",
       "    </tr>\n",
       "    <tr>\n",
       "      <th>min</th>\n",
       "      <td>0.000000</td>\n",
       "      <td>0.000000</td>\n",
       "    </tr>\n",
       "    <tr>\n",
       "      <th>25%</th>\n",
       "      <td>0.000000</td>\n",
       "      <td>0.000000</td>\n",
       "    </tr>\n",
       "    <tr>\n",
       "      <th>50%</th>\n",
       "      <td>0.000000</td>\n",
       "      <td>0.000000</td>\n",
       "    </tr>\n",
       "    <tr>\n",
       "      <th>75%</th>\n",
       "      <td>1.000000</td>\n",
       "      <td>0.000000</td>\n",
       "    </tr>\n",
       "    <tr>\n",
       "      <th>max</th>\n",
       "      <td>1.000000</td>\n",
       "      <td>1.000000</td>\n",
       "    </tr>\n",
       "  </tbody>\n",
       "</table>\n",
       "</div>"
      ],
      "text/plain": [
       "            checkout   order_placed\n",
       "count  199410.000000  199410.000000\n",
       "mean        0.416529       0.198155\n",
       "std         0.492985       0.398610\n",
       "min         0.000000       0.000000\n",
       "25%         0.000000       0.000000\n",
       "50%         0.000000       0.000000\n",
       "75%         1.000000       0.000000\n",
       "max         1.000000       1.000000"
      ]
     },
     "execution_count": 6,
     "metadata": {},
     "output_type": "execute_result"
    }
   ],
   "source": [
    "train.describe()"
   ]
  },
  {
   "cell_type": "code",
   "execution_count": 7,
   "metadata": {},
   "outputs": [
    {
     "name": "stdout",
     "output_type": "stream",
     "text": [
      "<class 'pandas.core.frame.DataFrame'>\n",
      "RangeIndex: 199410 entries, 0 to 199409\n",
      "Data columns (total 8 columns):\n",
      "id              199410 non-null object\n",
      "ad              120035 non-null object\n",
      "link            199410 non-null object\n",
      "timestamp       199410 non-null object\n",
      "checkout        199410 non-null int64\n",
      "order_placed    199410 non-null int64\n",
      "grp             199410 non-null object\n",
      "funnel_level    199410 non-null object\n",
      "dtypes: int64(2), object(6)\n",
      "memory usage: 12.2+ MB\n"
     ]
    }
   ],
   "source": [
    "train.info()"
   ]
  },
  {
   "cell_type": "markdown",
   "metadata": {},
   "source": [
    "### Handling missing values"
   ]
  },
  {
   "cell_type": "code",
   "execution_count": 8,
   "metadata": {},
   "outputs": [],
   "source": [
    "train['ad'].fillna(method = 'ffill', axis  = 0, inplace = True)\n",
    "test['ad'].fillna(method = 'ffill', axis  = 0, inplace = True)"
   ]
  },
  {
   "cell_type": "code",
   "execution_count": 9,
   "metadata": {},
   "outputs": [
    {
     "data": {
      "text/plain": [
       "id              13977\n",
       "ad              10362\n",
       "link             5232\n",
       "timestamp       62697\n",
       "checkout            2\n",
       "order_placed        2\n",
       "grp               108\n",
       "funnel_level        3\n",
       "dtype: int64"
      ]
     },
     "execution_count": 9,
     "metadata": {},
     "output_type": "execute_result"
    }
   ],
   "source": [
    "train.nunique()"
   ]
  },
  {
   "cell_type": "code",
   "execution_count": 10,
   "metadata": {},
   "outputs": [
    {
     "data": {
      "text/plain": [
       "Index(['id', 'ad', 'link', 'timestamp', 'checkout', 'order_placed', 'grp',\n",
       "       'funnel_level'],\n",
       "      dtype='object')"
      ]
     },
     "execution_count": 10,
     "metadata": {},
     "output_type": "execute_result"
    }
   ],
   "source": [
    "train.columns"
   ]
  },
  {
   "cell_type": "code",
   "execution_count": 11,
   "metadata": {},
   "outputs": [
    {
     "data": {
      "text/plain": [
       "id              object\n",
       "ad              object\n",
       "link            object\n",
       "timestamp       object\n",
       "checkout         int64\n",
       "order_placed     int64\n",
       "grp             object\n",
       "funnel_level    object\n",
       "dtype: object"
      ]
     },
     "execution_count": 11,
     "metadata": {},
     "output_type": "execute_result"
    }
   ],
   "source": [
    "train.dtypes"
   ]
  },
  {
   "cell_type": "markdown",
   "metadata": {},
   "source": [
    "## Data Visualization"
   ]
  },
  {
   "cell_type": "code",
   "execution_count": 12,
   "metadata": {},
   "outputs": [
    {
     "data": {
      "text/plain": [
       "<matplotlib.axes._subplots.AxesSubplot at 0x1b00099b828>"
      ]
     },
     "execution_count": 12,
     "metadata": {},
     "output_type": "execute_result"
    },
    {
     "data": {
      "image/png": "[encoded data removed]",
      "text/plain": [
       "<matplotlib.figure.Figure at 0x1b00099b358>"
      ]
     },
     "metadata": {},
     "output_type": "display_data"
    }
   ],
   "source": [
    "#this will give the estimate of how many users have checkout\n",
    "sns.countplot(x = 'checkout', data= train)"
   ]
  },
  {
   "cell_type": "code",
   "execution_count": 13,
   "metadata": {},
   "outputs": [
    {
     "data": {
      "text/plain": [
       "<matplotlib.axes._subplots.AxesSubplot at 0x1b000f8aa58>"
      ]
     },
     "execution_count": 13,
     "metadata": {},
     "output_type": "execute_result"
    },
    {
     "data": {
      "image/png": "[encoded data removed]",
      "text/plain": [
       "<matplotlib.figure.Figure at 0x1b000faf7f0>"
      ]
     },
     "metadata": {},
     "output_type": "display_data"
    }
   ],
   "source": [
    "#this will give the estimate of how many of users have placed the order.\n",
    "sns.countplot(x = 'order_placed', data= train)"
   ]
  },
  {
   "cell_type": "code",
   "execution_count": 14,
   "metadata": {},
   "outputs": [
    {
     "data": {
      "text/plain": [
       "<matplotlib.axes._subplots.AxesSubplot at 0x1b000faf828>"
      ]
     },
     "execution_count": 14,
     "metadata": {},
     "output_type": "execute_result"
    },
    {
     "data": {
      "image/png": "[encoded data removed]",
      "text/plain": [
       "<matplotlib.figure.Figure at 0x1b075b216d8>"
      ]
     },
     "metadata": {},
     "output_type": "display_data"
    }
   ],
   "source": [
    "sns.countplot(x = 'checkout', data= train,hue = 'order_placed')"
   ]
  },
  {
   "cell_type": "code",
   "execution_count": 15,
   "metadata": {},
   "outputs": [
    {
     "data": {
      "text/plain": [
       "<matplotlib.axes._subplots.AxesSubplot at 0x1b0010d6e48>"
      ]
     },
     "execution_count": 15,
     "metadata": {},
     "output_type": "execute_result"
    },
    {
     "data": {
      "image/png": "[encoded data removed]",
      "text/plain": [
       "<matplotlib.figure.Figure at 0x1b00099b630>"
      ]
     },
     "metadata": {},
     "output_type": "display_data"
    }
   ],
   "source": [
    "sns.countplot(x = 'order_placed', data= train, hue= 'checkout')"
   ]
  },
  {
   "cell_type": "code",
   "execution_count": 17,
   "metadata": {},
   "outputs": [
    {
     "data": {
      "text/plain": [
       "<matplotlib.axes._subplots.AxesSubplot at 0x1b00111c780>"
      ]
     },
     "execution_count": 17,
     "metadata": {},
     "output_type": "execute_result"
    },
    {
     "data": {
      "image/png": "[encoded data removed]",
      "text/plain": [
       "<matplotlib.figure.Figure at 0x1b000fb7668>"
      ]
     },
     "metadata": {},
     "output_type": "display_data"
    }
   ],
   "source": [
    "train[train['checkout']==1]['link'].value_counts()[:15].plot(kind='bar')"
   ]
  },
  {
   "cell_type": "code",
   "execution_count": 18,
   "metadata": {},
   "outputs": [
    {
     "data": {
      "text/plain": [
       "<matplotlib.axes._subplots.AxesSubplot at 0x1b001157240>"
      ]
     },
     "execution_count": 18,
     "metadata": {},
     "output_type": "execute_result"
    },
    {
     "data": {
      "image/png": "[encoded data removed]",
      "text/plain": [
       "<matplotlib.figure.Figure at 0x1b00008d7f0>"
      ]
     },
     "metadata": {},
     "output_type": "display_data"
    }
   ],
   "source": [
    "train[train['order_placed']==1]['link'].value_counts()[:15].plot(kind='bar')"
   ]
  },
  {
   "cell_type": "code",
   "execution_count": 19,
   "metadata": {},
   "outputs": [
    {
     "data": {
      "text/plain": [
       "<matplotlib.axes._subplots.AxesSubplot at 0x1b000132b70>"
      ]
     },
     "execution_count": 19,
     "metadata": {},
     "output_type": "execute_result"
    },
    {
     "data": {
      "image/png": "[encoded data removed]",
      "text/plain": [
       "<matplotlib.figure.Figure at 0x1b001132f28>"
      ]
     },
     "metadata": {},
     "output_type": "display_data"
    }
   ],
   "source": [
    "sns.countplot(x = 'funnel_level', data= train, hue='checkout')"
   ]
  },
  {
   "cell_type": "code",
   "execution_count": 20,
   "metadata": {},
   "outputs": [
    {
     "data": {
      "text/plain": [
       "<matplotlib.axes._subplots.AxesSubplot at 0x1b00019f860>"
      ]
     },
     "execution_count": 20,
     "metadata": {},
     "output_type": "execute_result"
    },
    {
     "data": {
      "image/png": "[encoded data removed]",
      "text/plain": [
       "<matplotlib.figure.Figure at 0x1b0010d2278>"
      ]
     },
     "metadata": {},
     "output_type": "display_data"
    }
   ],
   "source": [
    "sns.countplot(x = 'funnel_level', data= train, hue='order_placed')"
   ]
  },
  {
   "cell_type": "code",
   "execution_count": 12,
   "metadata": {},
   "outputs": [],
   "source": [
    "#converting timestamp column to datetime\n",
    "train['timestamp'] = pd.to_datetime(train['timestamp'])\n",
    "test['timestamp'] = pd.to_datetime(test['timestamp'])"
   ]
  },
  {
   "cell_type": "markdown",
   "metadata": {},
   "source": [
    "### Feature Engineering"
   ]
  },
  {
   "cell_type": "code",
   "execution_count": 13,
   "metadata": {},
   "outputs": [],
   "source": [
    "#creating feature 'click_hour' from existing feature 'timestamp'.\n",
    "train['click_hour'] = train['timestamp'].dt.hour\n",
    "train['click_min'] = train['timestamp'].dt.minute\n",
    "test['click_hour'] = test['timestamp'].dt.hour\n",
    "test['click_min'] = test['timestamp'].dt.minute"
   ]
  },
  {
   "cell_type": "code",
   "execution_count": 14,
   "metadata": {},
   "outputs": [],
   "source": [
    "def session_duration(x) :\n",
    "    x['session_start'] = x['click_hour'].min()\n",
    "    x['session_end'] = x['click_hour'].max()\n",
    "    x['start_min'] = x['click_min'].min()\n",
    "    x['end_min'] = x['click_min'].max()\n",
    "    return x\n",
    "train = train.groupby('id').apply(session_duration)"
   ]
  },
  {
   "cell_type": "code",
   "execution_count": 15,
   "metadata": {},
   "outputs": [],
   "source": [
    "train['session_duration'] = ((train['session_end'] - train['session_start']) * 60) + (train['end_min']-\n",
    "train['start_min'] )"
   ]
  },
  {
   "cell_type": "code",
   "execution_count": 16,
   "metadata": {},
   "outputs": [],
   "source": [
    "def mean_time(x) :\n",
    "    x['mean_time'] = x['session_duration'].mean()\n",
    "    x['click_std'] = x['session_duration'].std()\n",
    "    return x\n",
    "train = train.groupby('id').apply(mean_time)"
   ]
  },
  {
   "cell_type": "code",
   "execution_count": 17,
   "metadata": {},
   "outputs": [],
   "source": [
    "def session_duration(x) :\n",
    "    x['session_start'] = x['click_hour'].min()\n",
    "    x['session_end'] = x['click_hour'].max()\n",
    "    x['start_min'] = x['click_min'].min()\n",
    "    x['end_min'] = x['click_min'].max()\n",
    "    return x\n",
    "test = test.groupby('id').apply(session_duration)"
   ]
  },
  {
   "cell_type": "code",
   "execution_count": 18,
   "metadata": {},
   "outputs": [],
   "source": [
    "test['session_duration'] = ((test['session_end'] - test['session_start']) * 60) + (test['end_min']-\n",
    "test['start_min'] )   "
   ]
  },
  {
   "cell_type": "code",
   "execution_count": 19,
   "metadata": {},
   "outputs": [],
   "source": [
    "def mean_time(x) :\n",
    "    x['mean_time'] = x['session_duration'].mean()\n",
    "    x['click_std'] = x['session_duration'].std()\n",
    "    return x\n",
    "test = test.groupby('id').apply(mean_time)"
   ]
  },
  {
   "cell_type": "code",
   "execution_count": 20,
   "metadata": {},
   "outputs": [],
   "source": [
    "train['click_std'].fillna(0, axis  = 0, inplace = True)\n",
    "test['click_std'].fillna(0, axis  = 0, inplace = True)"
   ]
  },
  {
   "cell_type": "code",
   "execution_count": 21,
   "metadata": {},
   "outputs": [
    {
     "name": "stdout",
     "output_type": "stream",
     "text": [
      "                  checkout  order_placed  click_hour  click_min  session_start  session_end  \\\n",
      "checkout             1.000     4.940e-01       0.001  1.056e-02         -0.045        0.055   \n",
      "order_placed         0.494     1.000e+00       0.008 -1.185e-05         -0.008        0.031   \n",
      "click_hour           0.001     7.914e-03       1.000  3.288e-02          0.874        0.894   \n",
      "click_min            0.011    -1.185e-05       0.033  1.000e+00          0.016        0.024   \n",
      "session_start       -0.045    -7.673e-03       0.874  1.629e-02          1.000        0.772   \n",
      "session_end          0.055     3.148e-02       0.894  2.418e-02          0.772        1.000   \n",
      "start_min           -0.241    -2.153e-01      -0.008  5.026e-01          0.082       -0.092   \n",
      "end_min              0.263     2.076e-01       0.033  5.466e-01         -0.053        0.117   \n",
      "session_duration     0.171     7.824e-02      -0.018  1.262e-02         -0.383        0.289   \n",
      "mean_time            0.171     7.824e-02      -0.018  1.262e-02         -0.383        0.289   \n",
      "click_std              NaN           NaN         NaN        NaN            NaN          NaN   \n",
      "\n",
      "                  start_min  end_min  session_duration  mean_time  click_std  \n",
      "checkout             -0.241    0.263             0.171      0.171        NaN  \n",
      "order_placed         -0.215    0.208             0.078      0.078        NaN  \n",
      "click_hour           -0.008    0.033            -0.018     -0.018        NaN  \n",
      "click_min             0.503    0.547             0.013      0.013        NaN  \n",
      "session_start         0.082   -0.053            -0.383     -0.383        NaN  \n",
      "session_end          -0.092    0.117             0.289      0.289        NaN  \n",
      "start_min             1.000    0.109            -0.298     -0.298        NaN  \n",
      "end_min               0.109    1.000             0.291      0.291        NaN  \n",
      "session_duration     -0.298    0.291             1.000      1.000        NaN  \n",
      "mean_time            -0.298    0.291             1.000      1.000        NaN  \n",
      "click_std               NaN      NaN               NaN        NaN        NaN  \n"
     ]
    }
   ],
   "source": [
    "from pandas import set_option\n",
    "correlation = train.corr()\n",
    "set_option('display.width', 100)\n",
    "set_option('precision', 3)\n",
    "print (correlation)"
   ]
  },
  {
   "cell_type": "code",
   "execution_count": 22,
   "metadata": {},
   "outputs": [
    {
     "data": {
      "image/png": "[encoded data removed]",
      "text/plain": [
       "<matplotlib.figure.Figure at 0x24cbde15908>"
      ]
     },
     "metadata": {},
     "output_type": "display_data"
    }
   ],
   "source": [
    "fig = plt.figure()\n",
    "ax = fig.add_subplot(111)\n",
    "cax = ax.matshow(correlation, vmin=-1, vmax=1)\n",
    "fig.colorbar(cax)\n",
    "plt.show()"
   ]
  },
  {
   "cell_type": "code",
   "execution_count": 23,
   "metadata": {},
   "outputs": [],
   "source": [
    "train.drop(['timestamp', 'click_hour'], axis = 1, inplace = True)\n",
    "test.drop(['timestamp', 'click_hour'], axis = 1, inplace = True)"
   ]
  },
  {
   "cell_type": "markdown",
   "metadata": {},
   "source": [
    "## Label Encoding"
   ]
  },
  {
   "cell_type": "code",
   "execution_count": 24,
   "metadata": {},
   "outputs": [],
   "source": [
    "#label encoding of train data\n",
    "from sklearn.preprocessing import LabelEncoder\n",
    "cat_var = [i for i in train.columns if train[i].dtypes=='O']\n",
    "le = LabelEncoder()\n",
    "for var in cat_var :\n",
    "   train[var] = le.fit_transform(train[var].astype(str))"
   ]
  },
  {
   "cell_type": "code",
   "execution_count": 25,
   "metadata": {},
   "outputs": [],
   "source": [
    "#label encoding of test data\n",
    "from sklearn.preprocessing import LabelEncoder\n",
    "cat_var = [i for i in test.columns if test[i].dtypes=='O']\n",
    "le = LabelEncoder()\n",
    "for var in cat_var :\n",
    "   test[var] = le.fit_transform(test[var].astype(str))"
   ]
  },
  {
   "cell_type": "code",
   "execution_count": 26,
   "metadata": {},
   "outputs": [],
   "source": [
    "df_train = train.drop(['order_placed'], axis = 1)"
   ]
  },
  {
   "cell_type": "code",
   "execution_count": 27,
   "metadata": {},
   "outputs": [],
   "source": [
    "import warnings\n",
    "warnings.filterwarnings('ignore')"
   ]
  },
  {
   "cell_type": "markdown",
   "metadata": {},
   "source": [
    "### Splitting train and test data"
   ]
  },
  {
   "cell_type": "code",
   "execution_count": 28,
   "metadata": {},
   "outputs": [],
   "source": [
    "# Splitting the train_data into the Training set and Test set\n",
    "X2 = df_train.loc[:, df_train.columns != 'checkout']\n",
    "Y2 = df_train.loc[:, ['checkout']]\n",
    "from sklearn.cross_validation import train_test_split\n",
    "X_train2, X_test2, Y_train2, Y_test2 = train_test_split(X2, Y2, test_size = 0.25, random_state = 0)"
   ]
  },
  {
   "cell_type": "code",
   "execution_count": 29,
   "metadata": {},
   "outputs": [],
   "source": [
    "from sklearn.model_selection import KFold\n",
    "from sklearn.model_selection import cross_val_score\n",
    "from sklearn.model_selection import GridSearchCV\n",
    "from sklearn.metrics import confusion_matrix\n",
    "from sklearn.metrics import roc_auc_score\n",
    "from sklearn.metrics import accuracy_score\n",
    "from sklearn.pipeline import Pipeline\n",
    "from sklearn.linear_model import LogisticRegression\n",
    "from sklearn.tree import DecisionTreeClassifier\n",
    "from sklearn.neighbors import KNeighborsClassifier\n",
    "from sklearn.discriminant_analysis import LinearDiscriminantAnalysis\n",
    "from sklearn.naive_bayes import GaussianNB\n",
    "from sklearn.svm import SVC\n",
    "from sklearn.ensemble import AdaBoostClassifier\n",
    "from sklearn.ensemble import GradientBoostingClassifier\n",
    "from sklearn.ensemble import RandomForestClassifier\n",
    "from sklearn.ensemble import ExtraTreesClassifier\n",
    "from catboost import CatBoostClassifier\n",
    "from lightgbm import LGBMClassifier"
   ]
  },
  {
   "cell_type": "code",
   "execution_count": 30,
   "metadata": {},
   "outputs": [
    {
     "name": "stdout",
     "output_type": "stream",
     "text": [
      "0:\tlearn: 0.6542797\ttotal: 661ms\tremaining: 11m\n",
      "100:\tlearn: 0.0426096\ttotal: 30.2s\tremaining: 4m 28s\n",
      "200:\tlearn: 0.0353647\ttotal: 59s\tremaining: 3m 54s\n",
      "300:\tlearn: 0.0329731\ttotal: 1m 31s\tremaining: 3m 32s\n",
      "400:\tlearn: 0.0318706\ttotal: 2m 5s\tremaining: 3m 8s\n",
      "500:\tlearn: 0.0313986\ttotal: 2m 47s\tremaining: 2m 47s\n",
      "600:\tlearn: 0.0310613\ttotal: 3m 33s\tremaining: 2m 21s\n",
      "700:\tlearn: 0.0308167\ttotal: 4m 15s\tremaining: 1m 48s\n",
      "800:\tlearn: 0.0305910\ttotal: 4m 52s\tremaining: 1m 12s\n",
      "900:\tlearn: 0.0303792\ttotal: 5m 32s\tremaining: 36.5s\n",
      "999:\tlearn: 0.0302121\ttotal: 6m 14s\tremaining: 0us\n",
      "Test Set\n",
      "CatBoost roc-auc\n"
     ]
    },
    {
     "data": {
      "text/plain": [
       "0.9997592923194191"
      ]
     },
     "execution_count": 30,
     "metadata": {},
     "output_type": "execute_result"
    }
   ],
   "source": [
    "categorical_indices= np.where(df_train.dtypes!= np.float)[0]\n",
    "cb = CatBoostClassifier(iterations =1000, learning_rate=0.01, max_depth = 3, logging_level= 'Silent',\n",
    "                        random_seed=2018, one_hot_max_size=5)\n",
    "cb.fit(X_train2, Y_train2, categorical_indices, early_stopping_rounds= 50, verbose= 100)\n",
    "pred = cb.predict(X_test2)\n",
    "print('Test Set')\n",
    "print('CatBoost roc-auc')\n",
    "accuracy_score(Y_test2, pred)\n",
    "    "
   ]
  },
  {
   "cell_type": "code",
   "execution_count": 31,
   "metadata": {},
   "outputs": [],
   "source": [
    "#making prediction for test data\n",
    "prediction1 = cb.predict(test)\n",
    "test['checkout'] = prediction1"
   ]
  },
  {
   "cell_type": "code",
   "execution_count": 32,
   "metadata": {},
   "outputs": [],
   "source": [
    "# Splitting the train_data into the Training set and Test set\n",
    "X = train.loc[:, train.columns != 'order_placed']\n",
    "Y = train.loc[:, ['order_placed']]\n",
    "from sklearn.cross_validation import train_test_split\n",
    "X_train, X_test, Y_train, Y_test = train_test_split(X, Y, test_size = 0.25, random_state = 0)"
   ]
  },
  {
   "cell_type": "code",
   "execution_count": 33,
   "metadata": {},
   "outputs": [
    {
     "name": "stdout",
     "output_type": "stream",
     "text": [
      "Test Set\n",
      "extraTrees roc-auc\n"
     ]
    },
    {
     "data": {
      "text/plain": [
       "0.9815444272069399"
      ]
     },
     "execution_count": 33,
     "metadata": {},
     "output_type": "execute_result"
    }
   ],
   "source": [
    "et1= ExtraTreesClassifier(random_state=0)\n",
    "et1.fit(X_train, Y_train)\n",
    "pred1 = et1.predict(X_test)\n",
    "print('Test Set')\n",
    "print('extraTrees roc-auc')\n",
    "roc_auc_score(Y_test, pred1)"
   ]
  },
  {
   "cell_type": "code",
   "execution_count": 34,
   "metadata": {},
   "outputs": [
    {
     "name": "stdout",
     "output_type": "stream",
     "text": [
      "Test Set\n",
      "RandomForest roc-auc\n"
     ]
    },
    {
     "data": {
      "text/plain": [
       "0.9785254594590859"
      ]
     },
     "execution_count": 34,
     "metadata": {},
     "output_type": "execute_result"
    }
   ],
   "source": [
    "rf1 = RandomForestClassifier(random_state=0)\n",
    "rf1.fit(X_train, Y_train)\n",
    "pred1 = rf1.predict(X_test)\n",
    "print('Test Set')\n",
    "print('RandomForest roc-auc')\n",
    "roc_auc_score(Y_test, pred1)"
   ]
  },
  {
   "cell_type": "code",
   "execution_count": 35,
   "metadata": {},
   "outputs": [
    {
     "name": "stdout",
     "output_type": "stream",
     "text": [
      "Test Set\n",
      "decision tree roc-auc\n"
     ]
    },
    {
     "data": {
      "text/plain": [
       "0.9715696991060584"
      ]
     },
     "execution_count": 35,
     "metadata": {},
     "output_type": "execute_result"
    }
   ],
   "source": [
    "dt1 = DecisionTreeClassifier(random_state=0)\n",
    "dt1.fit(X_train, Y_train)\n",
    "pred1 = dt1.predict(X_test)\n",
    "print('Test Set')\n",
    "print('decision tree roc-auc')\n",
    "roc_auc_score(Y_test, pred1)"
   ]
  },
  {
   "cell_type": "code",
   "execution_count": 36,
   "metadata": {},
   "outputs": [
    {
     "name": "stdout",
     "output_type": "stream",
     "text": [
      "Test Set\n",
      "LGBMClassifier roc-auc\n"
     ]
    },
    {
     "data": {
      "text/plain": [
       "0.6472018679339061"
      ]
     },
     "execution_count": 36,
     "metadata": {},
     "output_type": "execute_result"
    }
   ],
   "source": [
    "lg = LGBMClassifier(objective= 'binary', max_depth =3, min_data_in_leaf = 100, learning_rate= 0.01,\n",
    "                   bagging_fraction=0.7, feature_fraction =0.8, bagging_freq=5)\n",
    "lg.fit(X_train, Y_train)\n",
    "pred1 = lg.predict(X_test)\n",
    "print('Test Set')\n",
    "print('LGBMClassifier roc-auc')\n",
    "roc_auc_score(Y_test, pred1)"
   ]
  },
  {
   "cell_type": "code",
   "execution_count": 37,
   "metadata": {},
   "outputs": [],
   "source": [
    "test2 = test.copy()"
   ]
  },
  {
   "cell_type": "code",
   "execution_count": 38,
   "metadata": {},
   "outputs": [],
   "source": [
    "test3= test.copy()"
   ]
  },
  {
   "cell_type": "code",
   "execution_count": 39,
   "metadata": {},
   "outputs": [],
   "source": [
    "test4= test.copy()"
   ]
  },
  {
   "cell_type": "code",
   "execution_count": 40,
   "metadata": {},
   "outputs": [],
   "source": [
    "test5= test.copy()"
   ]
  },
  {
   "cell_type": "code",
   "execution_count": 55,
   "metadata": {},
   "outputs": [],
   "source": [
    "#making prediction for test data\n",
    "prediction5 = lg.predict(test5)\n",
    "test5['order_placed']= prediction5"
   ]
  },
  {
   "cell_type": "code",
   "execution_count": 56,
   "metadata": {},
   "outputs": [],
   "source": [
    "test_df = pd.read_csv('test data.csv')"
   ]
  },
  {
   "cell_type": "code",
   "execution_count": 57,
   "metadata": {},
   "outputs": [],
   "source": [
    "#read the submission file\n",
    "submission = pd.DataFrame({'id' : test_df['id'], 'order_placed' : prediction5})"
   ]
  },
  {
   "cell_type": "code",
   "execution_count": 58,
   "metadata": {},
   "outputs": [],
   "source": [
    "#now, converting submission file to csv file\n",
    "submission.to_csv('sollg.csv', index=False)"
   ]
  },
  {
   "cell_type": "code",
   "execution_count": null,
   "metadata": {},
   "outputs": [],
   "source": []
  },
  {
   "cell_type": "code",
   "execution_count": null,
   "metadata": {},
   "outputs": [],
   "source": []
  }
 ],
 "metadata": {
  "kernelspec": {
   "display_name": "Python 3",
   "language": "python",
   "name": "python3"
  },
  "language_info": {
   "codemirror_mode": {
    "name": "ipython",
    "version": 3
   },
   "file_extension": ".py",
   "mimetype": "text/x-python",
   "name": "python",
   "nbconvert_exporter": "python",
   "pygments_lexer": "ipython3",
   "version": "3.6.4"
  }
 },
 "nbformat": 4,
 "nbformat_minor": 2
}
